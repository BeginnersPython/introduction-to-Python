{
 "cells": [
  {
   "cell_type": "markdown",
   "metadata": {},
   "source": [
    "# primitve types\n",
    "## integars\n",
    "### Floats\n",
    "#### booleans\n"
   ]
  },
  {
   "cell_type": "markdown",
   "metadata": {},
   "source": [
    "## Integars"
   ]
  },
  {
   "cell_type": "code",
   "execution_count": 1,
   "metadata": {},
   "outputs": [
    {
     "name": "stdout",
     "output_type": "stream",
     "text": [
      "3\n"
     ]
    }
   ],
   "source": [
    "a = 3\n",
    "\n",
    "\n",
    "print(a)"
   ]
  },
  {
   "cell_type": "markdown",
   "metadata": {},
   "source": [
    "## float"
   ]
  },
  {
   "cell_type": "code",
   "execution_count": 2,
   "metadata": {},
   "outputs": [
    {
     "name": "stdout",
     "output_type": "stream",
     "text": [
      "3.5\n"
     ]
    }
   ],
   "source": [
    "my_float = 3.5\n",
    "\n",
    "print(my_float)"
   ]
  },
  {
   "cell_type": "markdown",
   "metadata": {},
   "source": [
    "## booleans"
   ]
  },
  {
   "cell_type": "code",
   "execution_count": 3,
   "metadata": {},
   "outputs": [
    {
     "name": "stdout",
     "output_type": "stream",
     "text": [
      "Is it sunny? True\n",
      "Is it raining? False\n"
     ]
    }
   ],
   "source": [
    "\n",
    "is_sunny = True\n",
    "is_raining = False\n",
    "\n",
    "\n",
    "print(\"Is it sunny?\", is_sunny)\n",
    "print(\"Is it raining?\", is_raining)\n"
   ]
  },
  {
   "cell_type": "markdown",
   "metadata": {},
   "source": [
    "## Strings"
   ]
  },
  {
   "cell_type": "code",
   "execution_count": 4,
   "metadata": {},
   "outputs": [
    {
     "name": "stdout",
     "output_type": "stream",
     "text": [
      "Hello, world!\n"
     ]
    }
   ],
   "source": [
    "\n",
    "string1 = \"Hello, \"\n",
    "string2 = \"world!\"\n",
    "result = string1 + string2\n",
    "print(result)\n"
   ]
  },
  {
   "cell_type": "markdown",
   "metadata": {},
   "source": [
    "### Strings integars"
   ]
  },
  {
   "cell_type": "code",
   "execution_count": 6,
   "metadata": {},
   "outputs": [
    {
     "name": "stdout",
     "output_type": "stream",
     "text": [
      "o\n"
     ]
    }
   ],
   "source": [
    "\n",
    "my_string = \"Hello\"\n",
    "\n",
    "first_character = my_string[4]\n",
    "\n",
    "print(first_character)\n"
   ]
  },
  {
   "cell_type": "markdown",
   "metadata": {},
   "source": [
    "### Slicing"
   ]
  },
  {
   "cell_type": "code",
   "execution_count": 10,
   "metadata": {},
   "outputs": [
    {
     "name": "stdout",
     "output_type": "stream",
     "text": [
      "subset1 [3, 4, 5, 6, 7]\n"
     ]
    }
   ],
   "source": [
    "\n",
    "my_list = [0,1,2,3,4,5,6,7,8,9]\n",
    "subset1=my_list[3:8]\n",
    "print(\"subset1\",subset1)\n",
    "\n",
    "\n"
   ]
  },
  {
   "cell_type": "markdown",
   "metadata": {},
   "source": [
    "### String Class methods"
   ]
  },
  {
   "cell_type": "code",
   "execution_count": 11,
   "metadata": {},
   "outputs": [
    {
     "name": "stdout",
     "output_type": "stream",
     "text": [
      "Uppercase: HELLO, WORLD!\n",
      "Lowercase: hello, world!\n",
      "Capitalized: Hello, world!\n",
      "Count of 'o': 2\n",
      "Replaced: hello, Python!\n"
     ]
    }
   ],
   "source": [
    "\n",
    "my_string = \"hello, world!\"\n",
    "\n",
    "uppercase_string = my_string.upper()\n",
    "\n",
    "lowercase_string = my_string.lower()\n",
    "\n",
    "\n",
    "capitalized_string = my_string.capitalize()\n",
    "\n",
    "\n",
    "count = my_string.count(\"o\")\n",
    "\n",
    "\n",
    "replaced_string = my_string.replace(\"world\", \"Python\")\n",
    "\n",
    "\n",
    "print(\"Uppercase:\", uppercase_string)\n",
    "print(\"Lowercase:\", lowercase_string)\n",
    "print(\"Capitalized:\", capitalized_string)\n",
    "print(\"Count of 'o':\", count)\n",
    "print(\"Replaced:\", replaced_string)\n"
   ]
  },
  {
   "cell_type": "code",
   "execution_count": null,
   "metadata": {},
   "outputs": [],
   "source": []
  }
 ],
 "metadata": {
  "kernelspec": {
   "display_name": "Python 3",
   "language": "python",
   "name": "python3"
  },
  "language_info": {
   "codemirror_mode": {
    "name": "ipython",
    "version": 3
   },
   "file_extension": ".py",
   "mimetype": "text/x-python",
   "name": "python",
   "nbconvert_exporter": "python",
   "pygments_lexer": "ipython3",
   "version": "3.6.5"
  }
 },
 "nbformat": 4,
 "nbformat_minor": 2
}
